{
 "cells": [
  {
   "cell_type": "code",
   "execution_count": 65,
   "metadata": {},
   "outputs": [],
   "source": [
    "import pandas as pd\n",
    "import seaborn as sns\n",
    "import numpy as np"
   ]
  },
  {
   "cell_type": "code",
   "execution_count": 66,
   "metadata": {},
   "outputs": [
    {
     "name": "stdout",
     "output_type": "stream",
     "text": [
      "   user_id  item_id  rating  timestamp\n",
      "0      196      242       3  881250949\n",
      "1      186      302       3  891717742\n",
      "2       22      377       1  878887116\n",
      "3      244       51       2  880606923\n",
      "4      166      346       1  886397596\n",
      "\n",
      "   item_id         item_title\n",
      "0        1   Toy Story (1995)\n",
      "1        2   GoldenEye (1995)\n",
      "2        3  Four Rooms (1995)\n",
      "3        4  Get Shorty (1995)\n",
      "4        5     Copycat (1995)\n"
     ]
    }
   ],
   "source": [
    "data__headers = [\"user_id\",\"item_id\",\"rating\",\"timestamp\"]\n",
    "item__headers = [\"item_id\",\"item_title\"]\n",
    "\n",
    "data = pd.read_csv(\"./dataset/ml-100k/u.data\" , names=data__headers , sep=\"\\t\")\n",
    "item = pd.read_csv(\"./dataset/ml-100k/u.item\" , names=item__headers, sep=\"|\" , encoding = 'latin-1', usecols=[0,1])\n",
    "\n",
    "print(data.head())\n",
    "print()\n",
    "print(item.head())"
   ]
  },
  {
   "cell_type": "code",
   "execution_count": 67,
   "metadata": {},
   "outputs": [
    {
     "name": "stdout",
     "output_type": "stream",
     "text": [
      "      rating                                         item_title\n",
      "1363     1.0                                Bird of Prey (1996)\n",
      "1560     1.0         Tigrero: A Film That Was Never Made (1994)\n",
      "1558     1.0                          Hostile Intentions (1994)\n",
      "1556     1.0                                 Yankee Zulu (1994)\n",
      "1600     1.0                               Office Killer (1997)\n",
      "...      ...                                                ...\n",
      "1121     5.0                     They Made Me a Criminal (1939)\n",
      "813      5.0                      Great Day in Harlem, A (1994)\n",
      "1652     5.0  Entertaining Angels: The Dorothy Day Story (1996)\n",
      "1466     5.0               Saint of Fort Washington, The (1993)\n",
      "1292     5.0                                    Star Kid (1997)\n",
      "\n",
      "[1682 rows x 2 columns]\n"
     ]
    }
   ],
   "source": [
    "avg_ratings = data.groupby(['item_id']).mean()\n",
    "avg_ratings = pd.merge(avg_ratings,item,on=\"item_id\")\n",
    "\n",
    "avg_ratings = avg_ratings.drop(columns=[\"item_id\",\"timestamp\",\"user_id\"]).sort_values('rating')\n",
    "\n",
    "print(avg_ratings)"
   ]
  }
 ],
 "metadata": {
  "kernelspec": {
   "display_name": "Python 3",
   "language": "python",
   "name": "python3"
  },
  "language_info": {
   "codemirror_mode": {
    "name": "ipython",
    "version": 3
   },
   "file_extension": ".py",
   "mimetype": "text/x-python",
   "name": "python",
   "nbconvert_exporter": "python",
   "pygments_lexer": "ipython3",
   "version": "3.8.3"
  }
 },
 "nbformat": 4,
 "nbformat_minor": 4
}
